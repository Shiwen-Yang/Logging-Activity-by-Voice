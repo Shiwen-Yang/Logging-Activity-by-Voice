{
 "cells": [
  {
   "cell_type": "code",
   "execution_count": 1,
   "metadata": {},
   "outputs": [],
   "source": [
    "import sqlite3\n",
    "import yaml\n",
    "\n",
    "with open(\"support_files/config.yaml\", 'r') as file:\n",
    "    configuration = yaml.safe_load(file)\n",
    "database = configuration[\"database\"]\n",
    "\n",
    "\n",
    "conn = sqlite3.connect(database)\n",
    "cursor = conn.cursor()\n",
    "\n",
    "cursor.execute(\"\"\" CREATE TABLE IF NOT EXISTS Team (\n",
    "    member_id INTEGER PRIMARY KEY AUTOINCREMENT,\n",
    "    first_name TEXT NOT NULL,\n",
    "    last_name TEXT NOT NULL,\n",
    "    gender TEXT NOT NULL) \"\"\")\n",
    "\n",
    "cursor.execute(\"\"\" CREATE TABLE IF NOT EXISTS Activity (\n",
    "    activity_id INTEGER PRIMARY KEY AUTOINCREMENT,\n",
    "    member_id INTEGER,\n",
    "    activity_type TEXT NOT NULL,\n",
    "    activity_time TIMESTAMP NOT NULL,\n",
    "    notes TEXT,\n",
    "    FOREIGN KEY(member_id) REFERENCES Team(member_id)) \"\"\")\n",
    "\n",
    "\n",
    "conn.commit()\n",
    "conn.close()"
   ]
  },
  {
   "cell_type": "code",
   "execution_count": 4,
   "metadata": {},
   "outputs": [
    {
     "name": "stdout",
     "output_type": "stream",
     "text": [
      "[]\n"
     ]
    }
   ],
   "source": [
    "import sqlite3\n",
    "with open(\"support_files/config.yaml\", 'r') as file:\n",
    "    configuration = yaml.safe_load(file)\n",
    "database = configuration[\"database\"]\n",
    "\n",
    "conn = sqlite3.connect(database)\n",
    "cursor = conn.cursor()\n",
    "\n",
    "I_want_to_look_at = \"Activity\"\n",
    "cursor.execute(f\"SELECT * FROM {I_want_to_look_at}\")\n",
    "\n",
    "tables = cursor.fetchall()\n",
    "\n",
    "print(tables)"
   ]
  },
  {
   "cell_type": "code",
   "execution_count": null,
   "metadata": {},
   "outputs": [],
   "source": []
  }
 ],
 "metadata": {
  "kernelspec": {
   "display_name": "Python 3",
   "language": "python",
   "name": "python3"
  },
  "language_info": {
   "codemirror_mode": {
    "name": "ipython",
    "version": 3
   },
   "file_extension": ".py",
   "mimetype": "text/x-python",
   "name": "python",
   "nbconvert_exporter": "python",
   "pygments_lexer": "ipython3",
   "version": "3.12.5"
  }
 },
 "nbformat": 4,
 "nbformat_minor": 2
}
